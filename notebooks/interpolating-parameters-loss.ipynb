{
 "cells": [
  {
   "cell_type": "markdown",
   "id": "d9cdc85d",
   "metadata": {},
   "source": [
    "## This notebook will look at the \"global\" structure of the loss landscape by plotting how loss changes as we move along a linear line from initial parameters to trained parameters of a deep network. It also looks at the angle between the gradient and the direction of final parameters"
   ]
  },
  {
   "cell_type": "code",
   "execution_count": 1,
   "id": "752593ae",
   "metadata": {},
   "outputs": [],
   "source": [
    "from itertools import islice\n",
    "from copy import deepcopy\n",
    "import random\n",
    "\n",
    "import numpy as np\n",
    "import matplotlib.pyplot as plt\n",
    "from tqdm.auto import tqdm\n",
    "\n",
    "import torch\n",
    "import torch.nn as nn\n",
    "import torchvision"
   ]
  },
  {
   "cell_type": "code",
   "execution_count": 2,
   "id": "ee92d1e2",
   "metadata": {},
   "outputs": [
    {
     "name": "stdout",
     "output_type": "stream",
     "text": [
      "Using device: cuda:0\n"
     ]
    }
   ],
   "source": [
    "########### Set Device ############\n",
    "device = torch.device('cuda:0' if torch.cuda.is_available() else 'cpu')\n",
    "dtype = torch.float64\n",
    "torch.set_default_dtype(dtype)\n",
    "print(\"Using device: {}\".format(device))"
   ]
  },
  {
   "cell_type": "code",
   "execution_count": 3,
   "id": "4d0905e2",
   "metadata": {},
   "outputs": [
    {
     "name": "stdout",
     "output_type": "stream",
     "text": [
      "Downloading http://yann.lecun.com/exdb/mnist/train-images-idx3-ubyte.gz\n",
      "Downloading http://yann.lecun.com/exdb/mnist/train-images-idx3-ubyte.gz to /tmp/MNIST/raw/train-images-idx3-ubyte.gz\n"
     ]
    },
    {
     "data": {
      "application/vnd.jupyter.widget-view+json": {
       "model_id": "dbd6e80368a144f18078cef5484c43fc",
       "version_major": 2,
       "version_minor": 0
      },
      "text/plain": [
       "  0%|          | 0/9912422 [00:00<?, ?it/s]"
      ]
     },
     "metadata": {},
     "output_type": "display_data"
    },
    {
     "name": "stdout",
     "output_type": "stream",
     "text": [
      "Extracting /tmp/MNIST/raw/train-images-idx3-ubyte.gz to /tmp/MNIST/raw\n",
      "\n",
      "Downloading http://yann.lecun.com/exdb/mnist/train-labels-idx1-ubyte.gz\n",
      "Downloading http://yann.lecun.com/exdb/mnist/train-labels-idx1-ubyte.gz to /tmp/MNIST/raw/train-labels-idx1-ubyte.gz\n"
     ]
    },
    {
     "data": {
      "application/vnd.jupyter.widget-view+json": {
       "model_id": "a3afc655a572456290abf92a31f29df6",
       "version_major": 2,
       "version_minor": 0
      },
      "text/plain": [
       "  0%|          | 0/28881 [00:00<?, ?it/s]"
      ]
     },
     "metadata": {},
     "output_type": "display_data"
    },
    {
     "name": "stdout",
     "output_type": "stream",
     "text": [
      "Extracting /tmp/MNIST/raw/train-labels-idx1-ubyte.gz to /tmp/MNIST/raw\n",
      "\n",
      "Downloading http://yann.lecun.com/exdb/mnist/t10k-images-idx3-ubyte.gz\n",
      "Downloading http://yann.lecun.com/exdb/mnist/t10k-images-idx3-ubyte.gz to /tmp/MNIST/raw/t10k-images-idx3-ubyte.gz\n"
     ]
    },
    {
     "data": {
      "application/vnd.jupyter.widget-view+json": {
       "model_id": "93e3ed30c19845808d685158ec8884d7",
       "version_major": 2,
       "version_minor": 0
      },
      "text/plain": [
       "  0%|          | 0/1648877 [00:00<?, ?it/s]"
      ]
     },
     "metadata": {},
     "output_type": "display_data"
    },
    {
     "name": "stdout",
     "output_type": "stream",
     "text": [
      "Extracting /tmp/MNIST/raw/t10k-images-idx3-ubyte.gz to /tmp/MNIST/raw\n",
      "\n",
      "Downloading http://yann.lecun.com/exdb/mnist/t10k-labels-idx1-ubyte.gz\n",
      "Downloading http://yann.lecun.com/exdb/mnist/t10k-labels-idx1-ubyte.gz to /tmp/MNIST/raw/t10k-labels-idx1-ubyte.gz\n"
     ]
    },
    {
     "data": {
      "application/vnd.jupyter.widget-view+json": {
       "model_id": "c4b1df9ea65242b88be994cf381290aa",
       "version_major": 2,
       "version_minor": 0
      },
      "text/plain": [
       "  0%|          | 0/4542 [00:00<?, ?it/s]"
      ]
     },
     "metadata": {},
     "output_type": "display_data"
    },
    {
     "name": "stdout",
     "output_type": "stream",
     "text": [
      "Extracting /tmp/MNIST/raw/t10k-labels-idx1-ubyte.gz to /tmp/MNIST/raw\n",
      "\n"
     ]
    }
   ],
   "source": [
    "train = torchvision.datasets.MNIST(root=\"/tmp\", train=True, transform=torchvision.transforms.ToTensor(), download=True)\n",
    "test = torchvision.datasets.MNIST(root=\"/tmp\", train=False, transform=torchvision.transforms.ToTensor(), download=True)"
   ]
  },
  {
   "cell_type": "code",
   "execution_count": 4,
   "id": "c05edc8b",
   "metadata": {},
   "outputs": [],
   "source": [
    "def compute_accuracy(network, dataset, device, N=2000, batch_size=50):\n",
    "    with torch.no_grad():\n",
    "        dataset_loader = torch.utils.data.DataLoader(dataset, batch_size=batch_size, shuffle=True)\n",
    "        correct = 0\n",
    "        total = 0\n",
    "        for x, labels in islice(dataset_loader, N // batch_size):\n",
    "            logits = network(x.to(device))\n",
    "            predicted_labels = torch.argmax(logits, dim=1)\n",
    "            correct += torch.sum(predicted_labels == labels.to(device))\n",
    "            total += x.size(0)\n",
    "        return (correct / total).item()\n",
    "\n",
    "def compute_loss(network, loss_fn, dataset, device, N=2000, batch_size=50):\n",
    "    with torch.no_grad():\n",
    "        dataset_loader = torch.utils.data.DataLoader(dataset, batch_size=batch_size, shuffle=True)\n",
    "        loss = 0\n",
    "        total = 0\n",
    "        for x, labels in islice(dataset_loader, N // batch_size):\n",
    "            logits = network(x.to(device))\n",
    "            loss += loss_fn(logits, labels.to(device))\n",
    "            total += x.size(0)\n",
    "        return (loss / total).item()"
   ]
  },
  {
   "cell_type": "markdown",
   "id": "9ef5bdca",
   "metadata": {},
   "source": [
    "### Train our first network and create interpolation plot"
   ]
  },
  {
   "cell_type": "code",
   "execution_count": 5,
   "id": "c17dfc3f",
   "metadata": {},
   "outputs": [
    {
     "data": {
      "application/vnd.jupyter.widget-view+json": {
       "model_id": "b1f5b06a602b4553b7bede51ce2bdb28",
       "version_major": 2,
       "version_minor": 0
      },
      "text/plain": [
       "  0%|          | 0/50 [00:00<?, ?it/s]"
      ]
     },
     "metadata": {},
     "output_type": "display_data"
    }
   ],
   "source": [
    "network = nn.Sequential(\n",
    "    nn.Flatten(),\n",
    "    nn.Linear(28*28, 100),\n",
    "    nn.ReLU(),\n",
    "    nn.Linear(100, 10)\n",
    ").to(device)\n",
    "\n",
    "initial_params = dict((name, param.detach().cpu().numpy()) for name, param in network.named_parameters())\n",
    "\n",
    "loss_fn = nn.CrossEntropyLoss()\n",
    "optimizer = torch.optim.SGD(network.parameters(), lr=1e-1)\n",
    "\n",
    "random.seed(0)\n",
    "np.random.seed(0)\n",
    "torch.manual_seed(0)\n",
    "train_loader = torch.utils.data.DataLoader(train, batch_size=200, shuffle=True)\n",
    "\n",
    "n_steps = []\n",
    "train_losses = []\n",
    "test_losses = []\n",
    "train_accuracies = []\n",
    "test_accuracies = []\n",
    "\n",
    "i = 0\n",
    "for epoch in tqdm(range(50)):\n",
    "    for x, label in train_loader:\n",
    "        if i % 200 == 0:\n",
    "            with torch.no_grad():\n",
    "                n_steps.append(i)\n",
    "                train_losses.append(compute_loss(network, loss_fn, train, device, N=5000, batch_size=500))\n",
    "                test_losses.append(compute_loss(network, loss_fn, test, device, N=5000, batch_size=500))\n",
    "                train_accuracies.append(compute_accuracy(network, train, device, N=5000, batch_size=500))\n",
    "                test_accuracies.append(compute_accuracy(network, test, device, N=5000, batch_size=500))\n",
    "        optimizer.zero_grad()\n",
    "        loss = loss_fn(network(x.to(device)), label.to(device))\n",
    "        loss.backward()\n",
    "        optimizer.step()\n",
    "        i += 1\n",
    "        \n",
    "final_params = dict((name, param.detach().cpu().numpy()) for name, param in network.named_parameters())\n",
    "            "
   ]
  },
  {
   "cell_type": "code",
   "execution_count": 6,
   "id": "75380b47",
   "metadata": {},
   "outputs": [
    {
     "data": {
      "application/vnd.jupyter.widget-view+json": {
       "model_id": "6eccfdbcc4d6411ab47575e785803766",
       "version_major": 2,
       "version_minor": 0
      },
      "text/plain": [
       "  0%|          | 0/500 [00:00<?, ?it/s]"
      ]
     },
     "metadata": {},
     "output_type": "display_data"
    }
   ],
   "source": [
    "alphas = np.linspace(0, 2, 500)\n",
    "interpolated_train_losses = []\n",
    "\n",
    "for alpha in tqdm(alphas):\n",
    "    network = nn.Sequential(\n",
    "        nn.Flatten(),\n",
    "        nn.Linear(28*28, 100),\n",
    "        nn.ReLU(),\n",
    "        nn.Linear(100, 10)\n",
    "    ).to(device)\n",
    "    for name, param in network.named_parameters():\n",
    "        interpolated_param = (1 - alpha) * initial_params[name] + alpha * final_params[name]\n",
    "        param.data = torch.tensor(interpolated_param).to(dtype).to(device)\n",
    "    interpolated_train_losses.append(compute_loss(network, loss_fn, train, device, N=60000, batch_size=500))\n"
   ]
  },
  {
   "cell_type": "code",
   "execution_count": 9,
   "id": "e5aa5d1e",
   "metadata": {},
   "outputs": [
    {
     "data": {
      "image/png": "[encoded data removed]",
      "text/plain": [
       "<Figure size 432x288 with 1 Axes>"
      ]
     },
     "metadata": {
      "needs_background": "light"
     },
     "output_type": "display_data"
    }
   ],
   "source": [
    "plt.plot(alphas, interpolated_train_losses)\n",
    "plt.yscale('log')\n",
    "plt.xlabel(\"α\", fontsize=15)\n",
    "plt.ylabel(\"train loss\", fontsize=15)\n",
    "plt.title(\"784-100-10 ReLU: (1 - α)*P_0 + α*P_final\")\n",
    "plt.savefig(\"../figures/loss-interpolation-relu784-100-10-logscale-beyond1alpha.jpg\", dpi=300)"
   ]
  },
  {
   "cell_type": "markdown",
   "id": "1f9123b0",
   "metadata": {},
   "source": [
    "### Save run data"
   ]
  },
  {
   "cell_type": "code",
   "execution_count": 17,
   "id": "9ac9ea9f",
   "metadata": {},
   "outputs": [],
   "source": [
    "import pickle\n",
    "with open(\"interpolating-parameters-loss1.pkl\", \"wb\") as f:\n",
    "    pickle.dump((initial_params, n_steps, train_losses, test_losses, train_accuracies, test_accuracies, final_params, alphas, interpolated_train_losses), f)\n",
    "    "
   ]
  },
  {
   "cell_type": "markdown",
   "id": "d57619d5",
   "metadata": {},
   "source": [
    "### Do the same with a deeper Tanh network"
   ]
  },
  {
   "cell_type": "code",
   "execution_count": 18,
   "id": "1b758b0c",
   "metadata": {},
   "outputs": [
    {
     "data": {
      "application/vnd.jupyter.widget-view+json": {
       "model_id": "aa9a21760a83468aa83eefee3a54f6bc",
       "version_major": 2,
       "version_minor": 0
      },
      "text/plain": [
       "  0%|          | 0/80 [00:00<?, ?it/s]"
      ]
     },
     "metadata": {},
     "output_type": "display_data"
    }
   ],
   "source": [
    "network = nn.Sequential(\n",
    "    nn.Flatten(),\n",
    "    nn.Linear(28*28, 100),\n",
    "    nn.Tanh(),\n",
    "    nn.Linear(100, 100),\n",
    "    nn.Tanh(),\n",
    "    nn.Linear(100, 100),\n",
    "    nn.Tanh(),\n",
    "    nn.Linear(100, 10)\n",
    ").to(device)\n",
    "\n",
    "initial_params = dict((name, param.detach().cpu().numpy()) for name, param in network.named_parameters())\n",
    "\n",
    "loss_fn = nn.CrossEntropyLoss()\n",
    "optimizer = torch.optim.SGD(network.parameters(), lr=1e-1)\n",
    "\n",
    "random.seed(0)\n",
    "np.random.seed(0)\n",
    "torch.manual_seed(0)\n",
    "train_loader = torch.utils.data.DataLoader(train, batch_size=200, shuffle=True)\n",
    "\n",
    "n_steps = []\n",
    "train_losses = []\n",
    "test_losses = []\n",
    "train_accuracies = []\n",
    "test_accuracies = []\n",
    "\n",
    "i = 0\n",
    "for epoch in tqdm(range(80)):\n",
    "    for x, label in train_loader:\n",
    "        if i % 200 == 0:\n",
    "            with torch.no_grad():\n",
    "                n_steps.append(i)\n",
    "                train_losses.append(compute_loss(network, loss_fn, train, device, N=5000, batch_size=500))\n",
    "                test_losses.append(compute_loss(network, loss_fn, test, device, N=5000, batch_size=500))\n",
    "                train_accuracies.append(compute_accuracy(network, train, device, N=5000, batch_size=500))\n",
    "                test_accuracies.append(compute_accuracy(network, test, device, N=5000, batch_size=500))\n",
    "        optimizer.zero_grad()\n",
    "        loss = loss_fn(network(x.to(device)), label.to(device))\n",
    "        loss.backward()\n",
    "        optimizer.step()\n",
    "        i += 1\n",
    "        \n",
    "final_params = dict((name, param.detach().cpu().numpy()) for name, param in network.named_parameters())\n",
    "            "
   ]
  },
  {
   "cell_type": "code",
   "execution_count": 19,
   "id": "f4bd7603",
   "metadata": {},
   "outputs": [
    {
     "data": {
      "application/vnd.jupyter.widget-view+json": {
       "model_id": "5318d758ccfa45d0a60943fba182b365",
       "version_major": 2,
       "version_minor": 0
      },
      "text/plain": [
       "  0%|          | 0/500 [00:00<?, ?it/s]"
      ]
     },
     "metadata": {},
     "output_type": "display_data"
    }
   ],
   "source": [
    "alphas = np.linspace(0, 2, 500)\n",
    "interpolated_train_losses = []\n",
    "\n",
    "for alpha in tqdm(alphas):\n",
    "    network = nn.Sequential(\n",
    "        nn.Flatten(),\n",
    "        nn.Linear(28*28, 100),\n",
    "        nn.Tanh(),\n",
    "        nn.Linear(100, 100),\n",
    "        nn.Tanh(),\n",
    "        nn.Linear(100, 100),\n",
    "        nn.Tanh(),\n",
    "        nn.Linear(100, 10)\n",
    "    ).to(device)\n",
    "    for name, param in network.named_parameters():\n",
    "        interpolated_param = (1 - alpha) * initial_params[name] + alpha * final_params[name]\n",
    "        param.data = torch.tensor(interpolated_param).to(dtype).to(device)\n",
    "    interpolated_train_losses.append(compute_loss(network, loss_fn, train, device, N=60000, batch_size=500))\n"
   ]
  },
  {
   "cell_type": "code",
   "execution_count": 20,
   "id": "fa708eb6",
   "metadata": {},
   "outputs": [],
   "source": [
    "import pickle\n",
    "with open(\"interpolating-parameters-loss2.pkl\", \"wb\") as f:\n",
    "    pickle.dump((initial_params, n_steps, train_losses, test_losses, train_accuracies, test_accuracies, final_params, alphas, interpolated_train_losses), f)\n",
    "    "
   ]
  },
  {
   "cell_type": "code",
   "execution_count": 23,
   "id": "f499b584",
   "metadata": {},
   "outputs": [
    {
     "data": {
      "image/png": "[encoded data removed]",
      "text/plain": [
       "<Figure size 432x288 with 1 Axes>"
      ]
     },
     "metadata": {
      "needs_background": "light"
     },
     "output_type": "display_data"
    }
   ],
   "source": [
    "plt.plot(alphas, interpolated_train_losses)\n",
    "plt.yscale('log')\n",
    "plt.xlabel(\"α\", fontsize=15)\n",
    "plt.ylabel(\"train loss\", fontsize=15)\n",
    "plt.title(\"784-100-100-100-10 Tanh: (1 - α)*P_0 + α*P_final\")\n",
    "plt.savefig(\"../figures/loss-interpolation-tanh784-100-100-100-10-logscale-beyond1alpha.jpg\", dpi=300)"
   ]
  },
  {
   "cell_type": "markdown",
   "id": "4933322f",
   "metadata": {},
   "source": [
    "### Let's look at the angles between gradient and interpolation vector throughout training"
   ]
  },
  {
   "cell_type": "code",
   "execution_count": 5,
   "id": "aca34b60",
   "metadata": {},
   "outputs": [],
   "source": [
    "def l2norm(params):\n",
    "    total = 0\n",
    "    for param in params.values():\n",
    "        total += np.sum(np.power(param, 2))\n",
    "    return np.sqrt(total)\n",
    "        \n",
    "\n",
    "def angle(vec1, vec2):\n",
    "    assert vec1.keys() == vec2.keys()\n",
    "    dot = 0\n",
    "    for name in vec1.keys():\n",
    "        dot += np.sum(vec1[name] * vec2[name])\n",
    "    return np.arccos(dot / (l2norm(vec1) * l2norm(vec2)))"
   ]
  },
  {
   "cell_type": "code",
   "execution_count": 48,
   "id": "4f17f973",
   "metadata": {},
   "outputs": [
    {
     "data": {
      "application/vnd.jupyter.widget-view+json": {
       "model_id": "6a0c621f18c044c290fb0b4bf6bbdc60",
       "version_major": 2,
       "version_minor": 0
      },
      "text/plain": [
       "  0%|          | 0/80 [00:00<?, ?it/s]"
      ]
     },
     "metadata": {},
     "output_type": "display_data"
    }
   ],
   "source": [
    "network = nn.Sequential(\n",
    "    nn.Flatten(),\n",
    "    nn.Linear(28*28, 100),\n",
    "    nn.Tanh(),\n",
    "    nn.Linear(100, 100),\n",
    "    nn.Tanh(),\n",
    "    nn.Linear(100, 100),\n",
    "    nn.Tanh(),\n",
    "    nn.Linear(100, 10)\n",
    ").to(device)\n",
    "\n",
    "for name, param in network.named_parameters():\n",
    "    param.data = torch.tensor(initial_params[name]).to(dtype).to(device)\n",
    "\n",
    "interpolation_vector = dict((name, final_params[name] - initial_params[name]) for name, _ in network.named_parameters())\n",
    "\n",
    "loss_fn = nn.CrossEntropyLoss()\n",
    "optimizer = torch.optim.SGD(network.parameters(), lr=1e-1)\n",
    "\n",
    "random.seed(0)\n",
    "np.random.seed(0)\n",
    "torch.manual_seed(0)\n",
    "train_loader = torch.utils.data.DataLoader(train, batch_size=200, shuffle=True)\n",
    "\n",
    "n_steps = []\n",
    "angles = []\n",
    "\n",
    "i = 0\n",
    "for epoch in tqdm(range(80)):\n",
    "    for x, label in train_loader:\n",
    "        optimizer.zero_grad()\n",
    "        loss = loss_fn(network(x.to(device)), label.to(device))\n",
    "        loss.backward()\n",
    "        if i % 10 == 0:\n",
    "            n_steps.append(i)\n",
    "            opposite_gradient = dict((name, -param.grad.detach().cpu().numpy()) for name, param in network.named_parameters())\n",
    "            angles.append(angle(opposite_gradient, interpolation_vector))\n",
    "        optimizer.step()\n",
    "        i += 1"
   ]
  },
  {
   "cell_type": "code",
   "execution_count": 49,
   "id": "8b520d10",
   "metadata": {},
   "outputs": [
    {
     "data": {
      "text/plain": [
       "Text(0.5, 1.0, 'angle between gradient and (P_final - P_0)')"
      ]
     },
     "execution_count": 49,
     "metadata": {},
     "output_type": "execute_result"
    },
    {
     "data": {
      "image/png": "[encoded data removed]",
      "text/plain": [
       "<Figure size 432x288 with 1 Axes>"
      ]
     },
     "metadata": {
      "needs_background": "light"
     },
     "output_type": "display_data"
    }
   ],
   "source": [
    "plt.plot(n_steps, angles)\n",
    "plt.xlabel(\"train steps\")\n",
    "plt.ylabel(\"θ\")\n",
    "plt.title(\"angle between gradient and (P_final - P_0)\")"
   ]
  },
  {
   "cell_type": "code",
   "execution_count": 50,
   "id": "14c8c73c",
   "metadata": {},
   "outputs": [
    {
     "data": {
      "text/plain": [
       "Text(0.5, 1.0, 'angle between gradient and (P_final - P_0)')"
      ]
     },
     "execution_count": 50,
     "metadata": {},
     "output_type": "execute_result"
    },
    {
     "data": {
      "image/png": "[encoded data removed]",
      "text/plain": [
       "<Figure size 432x288 with 1 Axes>"
      ]
     },
     "metadata": {
      "needs_background": "light"
     },
     "output_type": "display_data"
    }
   ],
   "source": [
    "plt.plot(n_steps, angles)\n",
    "plt.xlabel(\"train steps\")\n",
    "plt.xlim(0, 500)\n",
    "plt.ylabel(\"θ\")\n",
    "plt.title(\"angle between gradient and (P_final - P_0)\")"
   ]
  },
  {
   "cell_type": "markdown",
   "id": "3bc34542",
   "metadata": {},
   "source": [
    "### Let's look at angle between the gradient and the vector to the final parameters from the given point in training, not just relative to P_0"
   ]
  },
  {
   "cell_type": "code",
   "execution_count": 51,
   "id": "4c766b0e",
   "metadata": {},
   "outputs": [
    {
     "data": {
      "application/vnd.jupyter.widget-view+json": {
       "model_id": "79012a95b5c842cc93a46ff2c7c94fe1",
       "version_major": 2,
       "version_minor": 0
      },
      "text/plain": [
       "  0%|          | 0/80 [00:00<?, ?it/s]"
      ]
     },
     "metadata": {},
     "output_type": "display_data"
    }
   ],
   "source": [
    "network = nn.Sequential(\n",
    "    nn.Flatten(),\n",
    "    nn.Linear(28*28, 100),\n",
    "    nn.Tanh(),\n",
    "    nn.Linear(100, 100),\n",
    "    nn.Tanh(),\n",
    "    nn.Linear(100, 100),\n",
    "    nn.Tanh(),\n",
    "    nn.Linear(100, 10)\n",
    ").to(device)\n",
    "\n",
    "for name, param in network.named_parameters():\n",
    "    param.data = torch.tensor(initial_params[name]).to(dtype).to(device)\n",
    "\n",
    "loss_fn = nn.CrossEntropyLoss()\n",
    "optimizer = torch.optim.SGD(network.parameters(), lr=1e-1)\n",
    "\n",
    "random.seed(0)\n",
    "np.random.seed(0)\n",
    "torch.manual_seed(0)\n",
    "train_loader = torch.utils.data.DataLoader(train, batch_size=200, shuffle=True)\n",
    "\n",
    "n_steps = []\n",
    "angles = []\n",
    "\n",
    "i = 0\n",
    "for epoch in tqdm(range(80)):\n",
    "    for x, label in train_loader:\n",
    "        optimizer.zero_grad()\n",
    "        loss = loss_fn(network(x.to(device)), label.to(device))\n",
    "        loss.backward()\n",
    "        if i % 10 == 0:\n",
    "            n_steps.append(i)\n",
    "            opposite_gradient = dict((name, -param.grad.detach().cpu().numpy()) for name, param in network.named_parameters())\n",
    "            params = dict((name, param.detach().cpu().numpy()) for name, param in network.named_parameters())\n",
    "            interpolation_vector = dict((name, final_params[name] - params[name]) for name, _ in network.named_parameters())\n",
    "            angles.append(angle(opposite_gradient, interpolation_vector))\n",
    "        optimizer.step()\n",
    "        i += 1"
   ]
  },
  {
   "cell_type": "code",
   "execution_count": 53,
   "id": "e394c90c",
   "metadata": {},
   "outputs": [
    {
     "data": {
      "text/plain": [
       "Text(0.5, 1.0, 'angle between gradient and (P_final - P_t)')"
      ]
     },
     "execution_count": 53,
     "metadata": {},
     "output_type": "execute_result"
    },
    {
     "data": {
      "image/png": "[encoded data removed]",
      "text/plain": [
       "<Figure size 432x288 with 1 Axes>"
      ]
     },
     "metadata": {
      "needs_background": "light"
     },
     "output_type": "display_data"
    }
   ],
   "source": [
    "plt.plot(n_steps, angles)\n",
    "plt.xlabel(\"train steps\")\n",
    "plt.ylabel(\"θ\")\n",
    "plt.title(\"angle between gradient and (P_final - P_t)\")"
   ]
  },
  {
   "cell_type": "code",
   "execution_count": 55,
   "id": "bf7cd84c",
   "metadata": {},
   "outputs": [
    {
     "data": {
      "text/plain": [
       "Text(0.5, 1.0, 'angle between gradient and (P_final - P_t)')"
      ]
     },
     "execution_count": 55,
     "metadata": {},
     "output_type": "execute_result"
    },
    {
     "data": {
      "image/png": "[encoded data removed]",
      "text/plain": [
       "<Figure size 432x288 with 1 Axes>"
      ]
     },
     "metadata": {
      "needs_background": "light"
     },
     "output_type": "display_data"
    }
   ],
   "source": [
    "plt.plot(n_steps, angles)\n",
    "plt.xlabel(\"train steps\")\n",
    "plt.xlim(0, 1000)\n",
    "plt.ylabel(\"θ\")\n",
    "plt.title(\"angle between gradient and (P_final - P_t)\")"
   ]
  },
  {
   "cell_type": "markdown",
   "id": "c37c1dc5",
   "metadata": {},
   "source": [
    "### I don't trust that the P_final we use to compute angles is the actual P_final of the run. Let's do the experiment another way"
   ]
  },
  {
   "cell_type": "code",
   "execution_count": 6,
   "id": "4f87132a",
   "metadata": {},
   "outputs": [
    {
     "data": {
      "application/vnd.jupyter.widget-view+json": {
       "model_id": "15ec384e56e547839471d4d6aa90678b",
       "version_major": 2,
       "version_minor": 0
      },
      "text/plain": [
       "  0%|          | 0/80 [00:00<?, ?it/s]"
      ]
     },
     "metadata": {},
     "output_type": "display_data"
    },
    {
     "data": {
      "application/vnd.jupyter.widget-view+json": {
       "model_id": "6f7616da7585400b8cd1dea91a6d8223",
       "version_major": 2,
       "version_minor": 0
      },
      "text/plain": [
       "  0%|          | 0/2400 [00:00<?, ?it/s]"
      ]
     },
     "metadata": {},
     "output_type": "display_data"
    }
   ],
   "source": [
    "network = nn.Sequential(\n",
    "    nn.Flatten(),\n",
    "    nn.Linear(28*28, 100),\n",
    "    nn.Tanh(),\n",
    "    nn.Linear(100, 100),\n",
    "    nn.Tanh(),\n",
    "    nn.Linear(100, 100),\n",
    "    nn.Tanh(),\n",
    "    nn.Linear(100, 10)\n",
    ").to(device)\n",
    "\n",
    "initial_params = dict((name, param.detach().cpu().numpy().copy()) for name, param in network.named_parameters())\n",
    "\n",
    "loss_fn = nn.CrossEntropyLoss()\n",
    "optimizer = torch.optim.SGD(network.parameters(), lr=1e-1)\n",
    "\n",
    "random.seed(0)\n",
    "np.random.seed(0)\n",
    "torch.manual_seed(0)\n",
    "train_loader = torch.utils.data.DataLoader(train, batch_size=200, shuffle=True)\n",
    "\n",
    "trajectory = []\n",
    "n_steps = []\n",
    "\n",
    "i = 0\n",
    "for epoch in tqdm(range(80)):\n",
    "    for x, label in train_loader:\n",
    "        optimizer.zero_grad()\n",
    "        loss = loss_fn(network(x.to(device)), label.to(device))\n",
    "        loss.backward()\n",
    "        if i % 10 == 0:\n",
    "            n_steps.append(i)\n",
    "            trajectory.append(\n",
    "                dict((name, p.detach().cpu().numpy().copy()) for name, p in network.named_parameters())\n",
    "            )\n",
    "        optimizer.step()\n",
    "        i += 1\n",
    "final_params = dict((name, param.detach().cpu().numpy().copy()) for name, param in network.named_parameters())\n",
    "    \n",
    "angles = []\n",
    "for params in tqdm(trajectory):\n",
    "    for name, param in network.named_parameters():\n",
    "        param.data = torch.tensor(params[name]).to(dtype).to(device)\n",
    "    x, label = next(iter(train_loader))\n",
    "    loss = loss_fn(network(x.to(device)), label.to(device))\n",
    "    loss.backward()\n",
    "    opposite_gradient = dict((name, -param.grad.detach().cpu().numpy().copy()) for name, param in network.named_parameters())\n",
    "    interpolation_vector = dict((name, final_params[name] - params[name]) for name, _ in network.named_parameters())\n",
    "    angles.append(angle(opposite_gradient, interpolation_vector))\n"
   ]
  },
  {
   "cell_type": "code",
   "execution_count": 7,
   "id": "6b817e8c",
   "metadata": {},
   "outputs": [
    {
     "data": {
      "text/plain": [
       "Text(0.5, 1.0, 'angle between gradient and (P_final - P_t)')"
      ]
     },
     "execution_count": 7,
     "metadata": {},
     "output_type": "execute_result"
    },
    {
     "data": {
      "image/png": "[encoded data removed]",
      "text/plain": [
       "<Figure size 432x288 with 1 Axes>"
      ]
     },
     "metadata": {
      "needs_background": "light"
     },
     "output_type": "display_data"
    }
   ],
   "source": [
    "plt.plot(n_steps, angles)\n",
    "plt.xlabel(\"train steps\")\n",
    "# plt.xlim(0, 1000)\n",
    "plt.ylabel(\"θ\")\n",
    "plt.title(\"angle between gradient and (P_final - P_t)\")"
   ]
  },
  {
   "cell_type": "markdown",
   "id": "b850839a",
   "metadata": {},
   "source": [
    "### Let's do it again with a smaller learning rate"
   ]
  },
  {
   "cell_type": "code",
   "execution_count": 9,
   "id": "6eebb4c2",
   "metadata": {},
   "outputs": [
    {
     "data": {
      "application/vnd.jupyter.widget-view+json": {
       "model_id": "9f4b234a547f4cd5afd8916d581d1051",
       "version_major": 2,
       "version_minor": 0
      },
      "text/plain": [
       "  0%|          | 0/80 [00:00<?, ?it/s]"
      ]
     },
     "metadata": {},
     "output_type": "display_data"
    },
    {
     "data": {
      "application/vnd.jupyter.widget-view+json": {
       "model_id": "07e3eb0844b3486ea0b05b0413f63cda",
       "version_major": 2,
       "version_minor": 0
      },
      "text/plain": [
       "  0%|          | 0/2400 [00:00<?, ?it/s]"
      ]
     },
     "metadata": {},
     "output_type": "display_data"
    }
   ],
   "source": [
    "network = nn.Sequential(\n",
    "    nn.Flatten(),\n",
    "    nn.Linear(28*28, 100),\n",
    "    nn.Tanh(),\n",
    "    nn.Linear(100, 100),\n",
    "    nn.Tanh(),\n",
    "    nn.Linear(100, 100),\n",
    "    nn.Tanh(),\n",
    "    nn.Linear(100, 10)\n",
    ").to(device)\n",
    "\n",
    "initial_params = dict((name, param.detach().cpu().numpy().copy()) for name, param in network.named_parameters())\n",
    "\n",
    "loss_fn = nn.CrossEntropyLoss()\n",
    "optimizer = torch.optim.SGD(network.parameters(), lr=1e-2)\n",
    "\n",
    "random.seed(0)\n",
    "np.random.seed(0)\n",
    "torch.manual_seed(0)\n",
    "train_loader = torch.utils.data.DataLoader(train, batch_size=200, shuffle=True)\n",
    "\n",
    "trajectory = []\n",
    "n_steps = []\n",
    "\n",
    "i = 0\n",
    "for epoch in tqdm(range(80)):\n",
    "    for x, label in train_loader:\n",
    "        optimizer.zero_grad()\n",
    "        loss = loss_fn(network(x.to(device)), label.to(device))\n",
    "        loss.backward()\n",
    "        if i % 10 == 0:\n",
    "            n_steps.append(i)\n",
    "            trajectory.append(\n",
    "                dict((name, p.detach().cpu().numpy().copy()) for name, p in network.named_parameters())\n",
    "            )\n",
    "        optimizer.step()\n",
    "        i += 1\n",
    "final_params = dict((name, param.detach().cpu().numpy().copy()) for name, param in network.named_parameters())\n",
    "    \n",
    "angles = []\n",
    "for params in tqdm(trajectory):\n",
    "    for name, param in network.named_parameters():\n",
    "        param.data = torch.tensor(params[name]).to(dtype).to(device)\n",
    "    x, label = next(iter(train_loader))\n",
    "    loss = loss_fn(network(x.to(device)), label.to(device))\n",
    "    loss.backward()\n",
    "    opposite_gradient = dict((name, -param.grad.detach().cpu().numpy().copy()) for name, param in network.named_parameters())\n",
    "    interpolation_vector = dict((name, final_params[name] - params[name]) for name, _ in network.named_parameters())\n",
    "    angles.append(angle(opposite_gradient, interpolation_vector))\n"
   ]
  },
  {
   "cell_type": "code",
   "execution_count": 10,
   "id": "b62ced53",
   "metadata": {},
   "outputs": [
    {
     "data": {
      "text/plain": [
       "Text(0.5, 1.0, 'angle between gradient and (P_final - P_t)')"
      ]
     },
     "execution_count": 10,
     "metadata": {},
     "output_type": "execute_result"
    },
    {
     "data": {
      "image/png": "[encoded data removed]",
      "text/plain": [
       "<Figure size 432x288 with 1 Axes>"
      ]
     },
     "metadata": {
      "needs_background": "light"
     },
     "output_type": "display_data"
    }
   ],
   "source": [
    "plt.plot(n_steps, angles)\n",
    "plt.xlabel(\"train steps\")\n",
    "# plt.xlim(0, 1000)\n",
    "plt.ylabel(\"θ\")\n",
    "plt.title(\"angle between gradient and (P_final - P_t)\")"
   ]
  },
  {
   "cell_type": "markdown",
   "id": "21f0620a",
   "metadata": {},
   "source": [
    "### Let's try with Adam"
   ]
  },
  {
   "cell_type": "code",
   "execution_count": 11,
   "id": "88e4ee5b",
   "metadata": {},
   "outputs": [
    {
     "data": {
      "application/vnd.jupyter.widget-view+json": {
       "model_id": "2aa91ae36aa6448db1083447afc546fc",
       "version_major": 2,
       "version_minor": 0
      },
      "text/plain": [
       "  0%|          | 0/80 [00:00<?, ?it/s]"
      ]
     },
     "metadata": {},
     "output_type": "display_data"
    },
    {
     "data": {
      "application/vnd.jupyter.widget-view+json": {
       "model_id": "0e71e747892a45a4ad0034ac704c4246",
       "version_major": 2,
       "version_minor": 0
      },
      "text/plain": [
       "  0%|          | 0/2400 [00:00<?, ?it/s]"
      ]
     },
     "metadata": {},
     "output_type": "display_data"
    }
   ],
   "source": [
    "network = nn.Sequential(\n",
    "    nn.Flatten(),\n",
    "    nn.Linear(28*28, 100),\n",
    "    nn.Tanh(),\n",
    "    nn.Linear(100, 100),\n",
    "    nn.Tanh(),\n",
    "    nn.Linear(100, 100),\n",
    "    nn.Tanh(),\n",
    "    nn.Linear(100, 10)\n",
    ").to(device)\n",
    "\n",
    "initial_params = dict((name, param.detach().cpu().numpy().copy()) for name, param in network.named_parameters())\n",
    "\n",
    "loss_fn = nn.CrossEntropyLoss()\n",
    "optimizer = torch.optim.Adam(network.parameters())\n",
    "\n",
    "random.seed(0)\n",
    "np.random.seed(0)\n",
    "torch.manual_seed(0)\n",
    "train_loader = torch.utils.data.DataLoader(train, batch_size=200, shuffle=True)\n",
    "\n",
    "trajectory = []\n",
    "n_steps = []\n",
    "\n",
    "i = 0\n",
    "for epoch in tqdm(range(80)):\n",
    "    for x, label in train_loader:\n",
    "        optimizer.zero_grad()\n",
    "        loss = loss_fn(network(x.to(device)), label.to(device))\n",
    "        loss.backward()\n",
    "        if i % 10 == 0:\n",
    "            n_steps.append(i)\n",
    "            trajectory.append(\n",
    "                dict((name, p.detach().cpu().numpy().copy()) for name, p in network.named_parameters())\n",
    "            )\n",
    "        optimizer.step()\n",
    "        i += 1\n",
    "final_params = dict((name, param.detach().cpu().numpy().copy()) for name, param in network.named_parameters())\n",
    "    \n",
    "train_loader = torch.utils.data.DataLoader(train, batch_size=2000, shuffle=True)\n",
    "angles = []\n",
    "for params in tqdm(trajectory):\n",
    "    for name, param in network.named_parameters():\n",
    "        param.data = torch.tensor(params[name]).to(dtype).to(device)\n",
    "    x, label = next(iter(train_loader))\n",
    "    loss = loss_fn(network(x.to(device)), label.to(device))\n",
    "    loss.backward()\n",
    "    opposite_gradient = dict((name, -param.grad.detach().cpu().numpy().copy()) for name, param in network.named_parameters())\n",
    "    interpolation_vector = dict((name, final_params[name] - params[name]) for name, _ in network.named_parameters())\n",
    "    angles.append(angle(opposite_gradient, interpolation_vector))\n"
   ]
  },
  {
   "cell_type": "code",
   "execution_count": 12,
   "id": "2d8be0b5",
   "metadata": {},
   "outputs": [
    {
     "data": {
      "text/plain": [
       "Text(0.5, 1.0, 'angle between gradient and (P_final - P_t)')"
      ]
     },
     "execution_count": 12,
     "metadata": {},
     "output_type": "execute_result"
    },
    {
     "data": {
      "image/png": "[encoded data removed]",
      "text/plain": [
       "<Figure size 432x288 with 1 Axes>"
      ]
     },
     "metadata": {
      "needs_background": "light"
     },
     "output_type": "display_data"
    }
   ],
   "source": [
    "plt.plot(n_steps, angles)\n",
    "plt.xlabel(\"train steps\")\n",
    "# plt.xlim(0, 1000)\n",
    "plt.ylabel(\"θ\")\n",
    "plt.title(\"angle between gradient and (P_final - P_t)\")"
   ]
  },
  {
   "cell_type": "code",
   "execution_count": null,
   "id": "6ed29c52",
   "metadata": {},
   "outputs": [],
   "source": []
  }
 ],
 "metadata": {
  "kernelspec": {
   "display_name": "Python 3 (ipykernel)",
   "language": "python",
   "name": "python3"
  },
  "language_info": {
   "codemirror_mode": {
    "name": "ipython",
    "version": 3
   },
   "file_extension": ".py",
   "mimetype": "text/x-python",
   "name": "python",
   "nbconvert_exporter": "python",
   "pygments_lexer": "ipython3",
   "version": "3.8.12"
  }
 },
 "nbformat": 4,
 "nbformat_minor": 5
}
