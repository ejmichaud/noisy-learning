{
 "cells": [
  {
   "cell_type": "markdown",
   "id": "6914afb6",
   "metadata": {},
   "source": [
    "## This notebook will look at the \"global\" structure of the loss landscape by plotting how loss changes as we move along a linear line from initial parameters to trained parameters of a deep network"
   ]
  },
  {
   "cell_type": "code",
   "execution_count": 1,
   "id": "85f8b034",
   "metadata": {},
   "outputs": [],
   "source": [
    "from itertools import islice\n",
    "from copy import deepcopy\n",
    "import random\n",
    "\n",
    "import numpy as np\n",
    "import matplotlib.pyplot as plt\n",
    "from tqdm.auto import tqdm\n",
    "\n",
    "import torch\n",
    "import torch.nn as nn\n",
    "import torchvision"
   ]
  },
  {
   "cell_type": "code",
   "execution_count": 2,
   "id": "fe522930",
   "metadata": {},
   "outputs": [
    {
     "name": "stdout",
     "output_type": "stream",
     "text": [
      "Using device: cuda:0\n"
     ]
    }
   ],
   "source": [
    "########### Set Device ############\n",
    "device = torch.device('cuda:0' if torch.cuda.is_available() else 'cpu')\n",
    "dtype = torch.float64\n",
    "torch.set_default_dtype(dtype)\n",
    "print(\"Using device: {}\".format(device))"
   ]
  },
  {
   "cell_type": "code",
   "execution_count": 3,
   "id": "ca0e755f",
   "metadata": {},
   "outputs": [],
   "source": [
    "train = torchvision.datasets.MNIST(root=\"/tmp\", train=True, transform=torchvision.transforms.ToTensor(), download=True)\n",
    "test = torchvision.datasets.MNIST(root=\"/tmp\", train=False, transform=torchvision.transforms.ToTensor(), download=True)"
   ]
  },
  {
   "cell_type": "code",
   "execution_count": 4,
   "id": "494594d6",
   "metadata": {},
   "outputs": [],
   "source": [
    "def compute_accuracy(network, dataset, device, N=2000, batch_size=50):\n",
    "    with torch.no_grad():\n",
    "        dataset_loader = torch.utils.data.DataLoader(dataset, batch_size=batch_size, shuffle=True)\n",
    "        correct = 0\n",
    "        total = 0\n",
    "        for x, labels in islice(dataset_loader, N // batch_size):\n",
    "            logits = network(x.to(device))\n",
    "            predicted_labels = torch.argmax(logits, dim=1)\n",
    "            correct += torch.sum(predicted_labels == labels.to(device))\n",
    "            total += x.size(0)\n",
    "        return (correct / total).item()\n",
    "\n",
    "def compute_loss(network, loss_fn, dataset, device, N=2000, batch_size=50):\n",
    "    with torch.no_grad():\n",
    "        dataset_loader = torch.utils.data.DataLoader(dataset, batch_size=batch_size, shuffle=True)\n",
    "        loss = 0\n",
    "        total = 0\n",
    "        for x, labels in islice(dataset_loader, N // batch_size):\n",
    "            logits = network(x.to(device))\n",
    "            loss += loss_fn(logits, labels.to(device))\n",
    "            total += x.size(0)\n",
    "        return (loss / total).item()"
   ]
  },
  {
   "cell_type": "markdown",
   "id": "46c91335",
   "metadata": {},
   "source": [
    "### Train our first network and create interpolation plot"
   ]
  },
  {
   "cell_type": "code",
   "execution_count": 5,
   "id": "dd14adc9",
   "metadata": {},
   "outputs": [
    {
     "data": {
      "application/vnd.jupyter.widget-view+json": {
       "model_id": "b1f5b06a602b4553b7bede51ce2bdb28",
       "version_major": 2,
       "version_minor": 0
      },
      "text/plain": [
       "  0%|          | 0/50 [00:00<?, ?it/s]"
      ]
     },
     "metadata": {},
     "output_type": "display_data"
    }
   ],
   "source": [
    "network = nn.Sequential(\n",
    "    nn.Flatten(),\n",
    "    nn.Linear(28*28, 100),\n",
    "    nn.ReLU(),\n",
    "    nn.Linear(100, 10)\n",
    ").to(device)\n",
    "\n",
    "initial_params = dict((name, param.detach().cpu().numpy()) for name, param in network.named_parameters())\n",
    "\n",
    "loss_fn = nn.CrossEntropyLoss()\n",
    "optimizer = torch.optim.SGD(network.parameters(), lr=1e-1)\n",
    "\n",
    "random.seed(0)\n",
    "np.random.seed(0)\n",
    "torch.manual_seed(0)\n",
    "train_loader = torch.utils.data.DataLoader(train, batch_size=200, shuffle=True)\n",
    "\n",
    "n_steps = []\n",
    "train_losses = []\n",
    "test_losses = []\n",
    "train_accuracies = []\n",
    "test_accuracies = []\n",
    "\n",
    "i = 0\n",
    "for epoch in tqdm(range(50)):\n",
    "    for x, label in train_loader:\n",
    "        if i % 200 == 0:\n",
    "            with torch.no_grad():\n",
    "                n_steps.append(i)\n",
    "                train_losses.append(compute_loss(network, loss_fn, train, device, N=5000, batch_size=500))\n",
    "                test_losses.append(compute_loss(network, loss_fn, test, device, N=5000, batch_size=500))\n",
    "                train_accuracies.append(compute_accuracy(network, train, device, N=5000, batch_size=500))\n",
    "                test_accuracies.append(compute_accuracy(network, test, device, N=5000, batch_size=500))\n",
    "        optimizer.zero_grad()\n",
    "        loss = loss_fn(network(x.to(device)), label.to(device))\n",
    "        loss.backward()\n",
    "        optimizer.step()\n",
    "        i += 1\n",
    "        \n",
    "final_params = dict((name, param.detach().cpu().numpy()) for name, param in network.named_parameters())\n",
    "            "
   ]
  },
  {
   "cell_type": "code",
   "execution_count": 6,
   "id": "a4a23b0f",
   "metadata": {},
   "outputs": [
    {
     "data": {
      "application/vnd.jupyter.widget-view+json": {
       "model_id": "6eccfdbcc4d6411ab47575e785803766",
       "version_major": 2,
       "version_minor": 0
      },
      "text/plain": [
       "  0%|          | 0/500 [00:00<?, ?it/s]"
      ]
     },
     "metadata": {},
     "output_type": "display_data"
    }
   ],
   "source": [
    "alphas = np.linspace(0, 2, 500)\n",
    "interpolated_train_losses = []\n",
    "\n",
    "for alpha in tqdm(alphas):\n",
    "    network = nn.Sequential(\n",
    "        nn.Flatten(),\n",
    "        nn.Linear(28*28, 100),\n",
    "        nn.ReLU(),\n",
    "        nn.Linear(100, 10)\n",
    "    ).to(device)\n",
    "    for name, param in network.named_parameters():\n",
    "        interpolated_param = (1 - alpha) * initial_params[name] + alpha * final_params[name]\n",
    "        param.data = torch.tensor(interpolated_param).to(dtype).to(device)\n",
    "    interpolated_train_losses.append(compute_loss(network, loss_fn, train, device, N=60000, batch_size=500))\n"
   ]
  },
  {
   "cell_type": "code",
   "execution_count": 9,
   "id": "88c114e8",
   "metadata": {},
   "outputs": [
    {
     "data": {
      "image/png": "[encoded data removed]",
      "text/plain": [
       "<Figure size 432x288 with 1 Axes>"
      ]
     },
     "metadata": {
      "needs_background": "light"
     },
     "output_type": "display_data"
    }
   ],
   "source": [
    "plt.plot(alphas, interpolated_train_losses)\n",
    "plt.yscale('log')\n",
    "plt.xlabel(\"α\", fontsize=15)\n",
    "plt.ylabel(\"train loss\", fontsize=15)\n",
    "plt.title(\"784-100-10 ReLU: (1 - α)*P_0 + α*P_final\")\n",
    "plt.savefig(\"../figures/loss-interpolation-relu784-100-10-logscale-beyond1alpha.jpg\", dpi=300)"
   ]
  },
  {
   "cell_type": "markdown",
   "id": "f7aaa6b1",
   "metadata": {},
   "source": [
    "### Save run data"
   ]
  },
  {
   "cell_type": "code",
   "execution_count": 17,
   "id": "63f95cce",
   "metadata": {},
   "outputs": [],
   "source": [
    "import pickle\n",
    "with open(\"interpolating-parameters-loss1.pkl\", \"wb\") as f:\n",
    "    pickle.dump((initial_params, n_steps, train_losses, test_losses, train_accuracies, test_accuracies, final_params, alphas, interpolated_train_losses), f)\n",
    "    "
   ]
  },
  {
   "cell_type": "markdown",
   "id": "f6213a32",
   "metadata": {},
   "source": [
    "### Do the same with a deeper Tanh network"
   ]
  },
  {
   "cell_type": "code",
   "execution_count": 18,
   "id": "8183af27",
   "metadata": {},
   "outputs": [
    {
     "data": {
      "application/vnd.jupyter.widget-view+json": {
       "model_id": "aa9a21760a83468aa83eefee3a54f6bc",
       "version_major": 2,
       "version_minor": 0
      },
      "text/plain": [
       "  0%|          | 0/80 [00:00<?, ?it/s]"
      ]
     },
     "metadata": {},
     "output_type": "display_data"
    }
   ],
   "source": [
    "network = nn.Sequential(\n",
    "    nn.Flatten(),\n",
    "    nn.Linear(28*28, 100),\n",
    "    nn.Tanh(),\n",
    "    nn.Linear(100, 100),\n",
    "    nn.Tanh(),\n",
    "    nn.Linear(100, 100),\n",
    "    nn.Tanh(),\n",
    "    nn.Linear(100, 10)\n",
    ").to(device)\n",
    "\n",
    "initial_params = dict((name, param.detach().cpu().numpy()) for name, param in network.named_parameters())\n",
    "\n",
    "loss_fn = nn.CrossEntropyLoss()\n",
    "optimizer = torch.optim.SGD(network.parameters(), lr=1e-1)\n",
    "\n",
    "random.seed(0)\n",
    "np.random.seed(0)\n",
    "torch.manual_seed(0)\n",
    "train_loader = torch.utils.data.DataLoader(train, batch_size=200, shuffle=True)\n",
    "\n",
    "n_steps = []\n",
    "train_losses = []\n",
    "test_losses = []\n",
    "train_accuracies = []\n",
    "test_accuracies = []\n",
    "\n",
    "i = 0\n",
    "for epoch in tqdm(range(80)):\n",
    "    for x, label in train_loader:\n",
    "        if i % 200 == 0:\n",
    "            with torch.no_grad():\n",
    "                n_steps.append(i)\n",
    "                train_losses.append(compute_loss(network, loss_fn, train, device, N=5000, batch_size=500))\n",
    "                test_losses.append(compute_loss(network, loss_fn, test, device, N=5000, batch_size=500))\n",
    "                train_accuracies.append(compute_accuracy(network, train, device, N=5000, batch_size=500))\n",
    "                test_accuracies.append(compute_accuracy(network, test, device, N=5000, batch_size=500))\n",
    "        optimizer.zero_grad()\n",
    "        loss = loss_fn(network(x.to(device)), label.to(device))\n",
    "        loss.backward()\n",
    "        optimizer.step()\n",
    "        i += 1\n",
    "        \n",
    "final_params = dict((name, param.detach().cpu().numpy()) for name, param in network.named_parameters())\n",
    "            "
   ]
  },
  {
   "cell_type": "code",
   "execution_count": 19,
   "id": "89a9ff3c",
   "metadata": {},
   "outputs": [
    {
     "data": {
      "application/vnd.jupyter.widget-view+json": {
       "model_id": "5318d758ccfa45d0a60943fba182b365",
       "version_major": 2,
       "version_minor": 0
      },
      "text/plain": [
       "  0%|          | 0/500 [00:00<?, ?it/s]"
      ]
     },
     "metadata": {},
     "output_type": "display_data"
    }
   ],
   "source": [
    "alphas = np.linspace(0, 2, 500)\n",
    "interpolated_train_losses = []\n",
    "\n",
    "for alpha in tqdm(alphas):\n",
    "    network = nn.Sequential(\n",
    "        nn.Flatten(),\n",
    "        nn.Linear(28*28, 100),\n",
    "        nn.Tanh(),\n",
    "        nn.Linear(100, 100),\n",
    "        nn.Tanh(),\n",
    "        nn.Linear(100, 100),\n",
    "        nn.Tanh(),\n",
    "        nn.Linear(100, 10)\n",
    "    ).to(device)\n",
    "    for name, param in network.named_parameters():\n",
    "        interpolated_param = (1 - alpha) * initial_params[name] + alpha * final_params[name]\n",
    "        param.data = torch.tensor(interpolated_param).to(dtype).to(device)\n",
    "    interpolated_train_losses.append(compute_loss(network, loss_fn, train, device, N=60000, batch_size=500))\n"
   ]
  },
  {
   "cell_type": "code",
   "execution_count": 20,
   "id": "41e2ca7e",
   "metadata": {},
   "outputs": [],
   "source": [
    "import pickle\n",
    "with open(\"interpolating-parameters-loss2.pkl\", \"wb\") as f:\n",
    "    pickle.dump((initial_params, n_steps, train_losses, test_losses, train_accuracies, test_accuracies, final_params, alphas, interpolated_train_losses), f)\n",
    "    "
   ]
  },
  {
   "cell_type": "code",
   "execution_count": 23,
   "id": "490ee2ba",
   "metadata": {},
   "outputs": [
    {
     "data": {
      "image/png": "[encoded data removed]",
      "text/plain": [
       "<Figure size 432x288 with 1 Axes>"
      ]
     },
     "metadata": {
      "needs_background": "light"
     },
     "output_type": "display_data"
    }
   ],
   "source": [
    "plt.plot(alphas, interpolated_train_losses)\n",
    "plt.yscale('log')\n",
    "plt.xlabel(\"α\", fontsize=15)\n",
    "plt.ylabel(\"train loss\", fontsize=15)\n",
    "plt.title(\"784-100-100-100-10 Tanh: (1 - α)*P_0 + α*P_final\")\n",
    "plt.savefig(\"../figures/loss-interpolation-tanh784-100-100-100-10-logscale-beyond1alpha.jpg\", dpi=300)"
   ]
  },
  {
   "cell_type": "code",
   "execution_count": null,
   "id": "9415ca72",
   "metadata": {},
   "outputs": [],
   "source": []
  },
  {
   "cell_type": "code",
   "execution_count": null,
   "id": "8bc9e621",
   "metadata": {},
   "outputs": [],
   "source": []
  },
  {
   "cell_type": "code",
   "execution_count": null,
   "id": "bcbbf9de",
   "metadata": {},
   "outputs": [],
   "source": []
  },
  {
   "cell_type": "code",
   "execution_count": null,
   "id": "c69cfdf2",
   "metadata": {},
   "outputs": [],
   "source": []
  },
  {
   "cell_type": "code",
   "execution_count": null,
   "id": "57d1c352",
   "metadata": {},
   "outputs": [],
   "source": []
  },
  {
   "cell_type": "code",
   "execution_count": null,
   "id": "c9ea0538",
   "metadata": {},
   "outputs": [],
   "source": []
  },
  {
   "cell_type": "code",
   "execution_count": null,
   "id": "ecbd77ae",
   "metadata": {},
   "outputs": [],
   "source": []
  },
  {
   "cell_type": "code",
   "execution_count": null,
   "id": "d7fcaaf1",
   "metadata": {},
   "outputs": [],
   "source": []
  }
 ],
 "metadata": {
  "kernelspec": {
   "display_name": "Python 3 (ipykernel)",
   "language": "python",
   "name": "python3"
  },
  "language_info": {
   "codemirror_mode": {
    "name": "ipython",
    "version": 3
   },
   "file_extension": ".py",
   "mimetype": "text/x-python",
   "name": "python",
   "nbconvert_exporter": "python",
   "pygments_lexer": "ipython3",
   "version": "3.8.12"
  }
 },
 "nbformat": 4,
 "nbformat_minor": 5
}
