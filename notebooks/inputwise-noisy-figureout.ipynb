{
 "cells": [
  {
   "cell_type": "code",
   "execution_count": 8,
   "id": "206e3561",
   "metadata": {},
   "outputs": [],
   "source": [
    "from itertools import islice\n",
    "\n",
    "import numpy as np\n",
    "import matplotlib.pyplot as plt\n",
    "from tqdm.auto import tqdm\n",
    "\n",
    "import torch\n",
    "import torch.nn as nn\n",
    "import torchvision"
   ]
  },
  {
   "cell_type": "code",
   "execution_count": 9,
   "id": "0b483137",
   "metadata": {},
   "outputs": [
    {
     "name": "stdout",
     "output_type": "stream",
     "text": [
      "Using device: cuda:1\n"
     ]
    }
   ],
   "source": [
    "########### Set Device ############\n",
    "device = torch.device('cuda:1' if torch.cuda.is_available() else 'cpu')\n",
    "dtype = torch.float64\n",
    "torch.set_default_dtype(dtype)\n",
    "print(\"Using device: {}\".format(device))"
   ]
  },
  {
   "cell_type": "code",
   "execution_count": 10,
   "id": "f2555976",
   "metadata": {},
   "outputs": [],
   "source": [
    "x = torch.randn(10, 3)"
   ]
  },
  {
   "cell_type": "code",
   "execution_count": 11,
   "id": "f06de543",
   "metadata": {},
   "outputs": [],
   "source": [
    "b = x.shape[-2]"
   ]
  },
  {
   "cell_type": "code",
   "execution_count": 12,
   "id": "0a86e3eb",
   "metadata": {},
   "outputs": [
    {
     "data": {
      "text/plain": [
       "10"
      ]
     },
     "execution_count": 12,
     "metadata": {},
     "output_type": "execute_result"
    }
   ],
   "source": [
    "b"
   ]
  },
  {
   "cell_type": "code",
   "execution_count": 27,
   "id": "82754cd7",
   "metadata": {},
   "outputs": [],
   "source": [
    "M = torch.rand((4, 3))"
   ]
  },
  {
   "cell_type": "code",
   "execution_count": 29,
   "id": "7dc45782",
   "metadata": {},
   "outputs": [
    {
     "data": {
      "text/plain": [
       "torch.Size([4, 3])"
      ]
     },
     "execution_count": 29,
     "metadata": {},
     "output_type": "execute_result"
    }
   ],
   "source": [
    "M.shape"
   ]
  },
  {
   "cell_type": "code",
   "execution_count": 30,
   "id": "af693c5a",
   "metadata": {},
   "outputs": [
    {
     "data": {
      "text/plain": [
       "torch.Size([10, 4])"
      ]
     },
     "execution_count": 30,
     "metadata": {},
     "output_type": "execute_result"
    }
   ],
   "source": [
    "torch.matmul(x, M.T).shape"
   ]
  },
  {
   "cell_type": "code",
   "execution_count": 36,
   "id": "5b6e0f1a",
   "metadata": {},
   "outputs": [
    {
     "data": {
      "text/plain": [
       "torch.Size([10, 3])"
      ]
     },
     "execution_count": 36,
     "metadata": {},
     "output_type": "execute_result"
    }
   ],
   "source": [
    "x.shape"
   ]
  },
  {
   "cell_type": "code",
   "execution_count": 38,
   "id": "02aff077",
   "metadata": {},
   "outputs": [
    {
     "data": {
      "text/plain": [
       "torch.Size([10, 4, 3])"
      ]
     },
     "execution_count": 38,
     "metadata": {},
     "output_type": "execute_result"
    }
   ],
   "source": [
    "M_ext = torch.tile(M, (b, 1, 1))\n",
    "M_ext.shape"
   ]
  },
  {
   "cell_type": "code",
   "execution_count": 47,
   "id": "fe0fec76",
   "metadata": {},
   "outputs": [
    {
     "data": {
      "text/plain": [
       "tensor(True)"
      ]
     },
     "execution_count": 47,
     "metadata": {},
     "output_type": "execute_result"
    }
   ],
   "source": [
    "y = torch.matmul(x, M_ext.transpose(2, 1))\n",
    "torch.all(y[1, 1] == y[0, 1])"
   ]
  },
  {
   "cell_type": "code",
   "execution_count": 60,
   "id": "35a60b7e",
   "metadata": {},
   "outputs": [
    {
     "data": {
      "text/plain": [
       "torch.Size([10, 4])"
      ]
     },
     "execution_count": 60,
     "metadata": {},
     "output_type": "execute_result"
    }
   ],
   "source": [
    "torch.diagonal(y, dim1=-3, dim2=-2).T.shape"
   ]
  },
  {
   "cell_type": "code",
   "execution_count": null,
   "id": "f582cfe0",
   "metadata": {},
   "outputs": [],
   "source": []
  },
  {
   "cell_type": "code",
   "execution_count": null,
   "id": "32bb02f6",
   "metadata": {},
   "outputs": [],
   "source": []
  },
  {
   "cell_type": "code",
   "execution_count": 50,
   "id": "5a5fac5d",
   "metadata": {},
   "outputs": [],
   "source": [
    "M_ext = torch.tile(M, (b, 1, 1))"
   ]
  },
  {
   "cell_type": "code",
   "execution_count": 51,
   "id": "ebd97c1d",
   "metadata": {},
   "outputs": [
    {
     "data": {
      "text/plain": [
       "torch.Size([10, 3, 4])"
      ]
     },
     "execution_count": 51,
     "metadata": {},
     "output_type": "execute_result"
    }
   ],
   "source": [
    "M_ext.shape"
   ]
  },
  {
   "cell_type": "code",
   "execution_count": 52,
   "id": "ad3dd35d",
   "metadata": {},
   "outputs": [
    {
     "data": {
      "text/plain": [
       "torch.Size([10, 3])"
      ]
     },
     "execution_count": 52,
     "metadata": {},
     "output_type": "execute_result"
    }
   ],
   "source": [
    "x.shape"
   ]
  },
  {
   "cell_type": "code",
   "execution_count": 54,
   "id": "64c4061c",
   "metadata": {},
   "outputs": [
    {
     "data": {
      "text/plain": [
       "torch.Size([10, 4, 10])"
      ]
     },
     "execution_count": 54,
     "metadata": {},
     "output_type": "execute_result"
    }
   ],
   "source": [
    "torch.matmul(M_ext.transpose(2, 1), x.T).shape"
   ]
  },
  {
   "cell_type": "code",
   "execution_count": 80,
   "id": "b7af3f8a",
   "metadata": {},
   "outputs": [
    {
     "data": {
      "text/plain": [
       "torch.Size([10, 4, 3])"
      ]
     },
     "execution_count": 80,
     "metadata": {},
     "output_type": "execute_result"
    }
   ],
   "source": [
    "M_ext.shape"
   ]
  },
  {
   "cell_type": "code",
   "execution_count": 41,
   "id": "77cac3b5",
   "metadata": {},
   "outputs": [
    {
     "data": {
      "text/plain": [
       "torch.Size([10, 10, 4])"
      ]
     },
     "execution_count": 41,
     "metadata": {},
     "output_type": "execute_result"
    }
   ],
   "source": [
    "torch.matmul(x, M_ext).shape"
   ]
  },
  {
   "cell_type": "code",
   "execution_count": 51,
   "id": "664d7028",
   "metadata": {},
   "outputs": [],
   "source": [
    "torch.diagonal?"
   ]
  },
  {
   "cell_type": "code",
   "execution_count": null,
   "id": "145f6ff0",
   "metadata": {},
   "outputs": [],
   "source": []
  },
  {
   "cell_type": "code",
   "execution_count": null,
   "id": "357159a6",
   "metadata": {},
   "outputs": [],
   "source": []
  },
  {
   "cell_type": "code",
   "execution_count": null,
   "id": "952986fb",
   "metadata": {},
   "outputs": [],
   "source": []
  },
  {
   "cell_type": "code",
   "execution_count": 123,
   "id": "6c8fc2e7",
   "metadata": {},
   "outputs": [],
   "source": [
    "class AddNoise(nn.Module):\n",
    "    def __init__(self, scale=0.05, device=device):\n",
    "        super(AddNoise, self).__init__()\n",
    "        self.scale = scale\n",
    "        self.device = device\n",
    "    \n",
    "    def forward(self, x):\n",
    "        return x + self.scale * torch.randn(x.shape).to(self.device)\n",
    "\n",
    "\n",
    "class NoisyLinear(nn.Linear):\n",
    "    def __init__(self, *args, scale, device, **kwargs):\n",
    "        super(NoisyLinear, self).__init__(*args, **kwargs)\n",
    "        self.scale = scale\n",
    "        self.device = device\n",
    "    \n",
    "    def forward(self, x):\n",
    "        b = x.shape[-2]\n",
    "        weight_tiled = torch.tile(self.weight, (b, 1, 1))\n",
    "        weight_noise = self.scale * torch.randn(weight_tiled.shape).to(self.device)\n",
    "        weight_noisy = weight_tiled + weight_noise\n",
    "        if self.bias:\n",
    "            bias_tiled = torch.tile(self.bias, (b, 1))\n",
    "            bias_noise = self.scale * torch.randn(bias_tiled.shape).to(self.device)\n",
    "            bias_noisy = bias_tiled + bias_noise\n",
    "        product = torch.matmul(x, weight_noisy.transpose(2, 1))\n",
    "        product = torch.diagonal(product, dim1=-3, dim2=-2)\n",
    "        if self.bias:\n",
    "            return product.T + bias_noisy\n",
    "        return product.T"
   ]
  },
  {
   "cell_type": "code",
   "execution_count": 129,
   "id": "3215a1a1",
   "metadata": {},
   "outputs": [],
   "source": [
    "torch.set_printoptions(sci_mode=False)"
   ]
  },
  {
   "cell_type": "code",
   "execution_count": 124,
   "id": "341a37d3",
   "metadata": {},
   "outputs": [],
   "source": [
    "L = NoisyLinear(3, 4, scale=0.0, device=device, bias=False).to(device)"
   ]
  },
  {
   "cell_type": "code",
   "execution_count": 135,
   "id": "9b983089",
   "metadata": {},
   "outputs": [],
   "source": [
    "a = torch.randn((10, 3)).to(device)\n",
    "b = torch.randn((10, 3)).to(device)"
   ]
  },
  {
   "cell_type": "code",
   "execution_count": 136,
   "id": "3a8c331f",
   "metadata": {},
   "outputs": [
    {
     "data": {
      "text/plain": [
       "tensor([[     0.0000,     -0.0000,      0.0000,      0.0000],\n",
       "        [     0.0000,      0.0000,      0.0000,      0.0000],\n",
       "        [     0.0000,      0.0000,      0.0000,     -0.0000],\n",
       "        [     0.0000,      0.0000,      0.0000,      0.0000],\n",
       "        [     0.0000,      0.0000,      0.0000,      0.0000],\n",
       "        [     0.0000,      0.0000,      0.0000,      0.0000],\n",
       "        [    -0.0000,      0.0000,      0.0000,      0.0000],\n",
       "        [    -0.0000,      0.0000,      0.0000,      0.0000],\n",
       "        [    -0.0000,     -0.0000,      0.0000,      0.0000],\n",
       "        [     0.0000,     -0.0000,     -0.0000,      0.0000]], device='cuda:1',\n",
       "       grad_fn=<SubBackward0>)"
      ]
     },
     "execution_count": 136,
     "metadata": {},
     "output_type": "execute_result"
    }
   ],
   "source": [
    "(L(a + b) - (L(a) + L(b)))"
   ]
  },
  {
   "cell_type": "code",
   "execution_count": null,
   "id": "57c753ee",
   "metadata": {},
   "outputs": [],
   "source": []
  },
  {
   "cell_type": "code",
   "execution_count": null,
   "id": "f035ddf0",
   "metadata": {},
   "outputs": [],
   "source": []
  },
  {
   "cell_type": "code",
   "execution_count": null,
   "id": "feeb7770",
   "metadata": {},
   "outputs": [],
   "source": []
  },
  {
   "cell_type": "code",
   "execution_count": null,
   "id": "e228c99b",
   "metadata": {},
   "outputs": [],
   "source": []
  },
  {
   "cell_type": "code",
   "execution_count": null,
   "id": "73ab349d",
   "metadata": {},
   "outputs": [],
   "source": []
  }
 ],
 "metadata": {
  "kernelspec": {
   "display_name": "Python 3 (ipykernel)",
   "language": "python",
   "name": "python3"
  },
  "language_info": {
   "codemirror_mode": {
    "name": "ipython",
    "version": 3
   },
   "file_extension": ".py",
   "mimetype": "text/x-python",
   "name": "python",
   "nbconvert_exporter": "python",
   "pygments_lexer": "ipython3",
   "version": "3.8.12"
  }
 },
 "nbformat": 4,
 "nbformat_minor": 5
}
